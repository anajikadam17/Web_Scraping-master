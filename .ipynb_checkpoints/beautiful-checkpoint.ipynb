{
 "cells": [
  {
   "cell_type": "markdown",
   "metadata": {},
   "source": [
    "### BeautifulSoup for WebScript"
   ]
  },
  {
   "cell_type": "code",
   "execution_count": 51,
   "metadata": {},
   "outputs": [],
   "source": [
    "import pandas as pd\n",
    "import numpy as np\n",
    "import matplotlib.pyplot as plt\n",
    "\n",
    "%matplotlib inline\n",
    "\n",
    "from urllib.request import urlopen\n",
    "from bs4 import BeautifulSoup\n",
    "import re #regural exp"
   ]
  },
  {
   "cell_type": "code",
   "execution_count": 88,
   "metadata": {},
   "outputs": [],
   "source": [
    "url = 'https://www.hubertiming.com/results/2018MLK' #open link\n",
    "html = urlopen(url)"
   ]
  },
  {
   "cell_type": "code",
   "execution_count": 89,
   "metadata": {},
   "outputs": [],
   "source": [
    "soup = BeautifulSoup(html)"
   ]
  },
  {
   "cell_type": "code",
   "execution_count": 90,
   "metadata": {},
   "outputs": [
    {
     "data": {
      "text/plain": [
       "bs4.BeautifulSoup"
      ]
     },
     "execution_count": 90,
     "metadata": {},
     "output_type": "execute_result"
    }
   ],
   "source": [
    "type(soup)"
   ]
  },
  {
   "cell_type": "code",
   "execution_count": 104,
   "metadata": {},
   "outputs": [
    {
     "name": "stdout",
     "output_type": "stream",
     "text": [
      "<title>2018 MLK Dream Run 5K Race Results</title>\n",
      "2018 MLK Dream Run 5K Race Results\n"
     ]
    }
   ],
   "source": [
    "title = soup.title\n",
    "print(title)\n",
    "print(title.text)"
   ]
  },
  {
   "cell_type": "code",
   "execution_count": 93,
   "metadata": {},
   "outputs": [],
   "source": [
    "data = []\n",
    "\n",
    "allrows = soup.find_all('tr')\n",
    "\n",
    "for row in allrows:\n",
    "    row_list = row.find_all('td')\n",
    "    dataRow =[]\n",
    "    for cell in row_list:\n",
    "        dataRow.append(cell.text)\n",
    "    data.append(dataRow)\n",
    "data = data[5:]\n",
    "# print(data)\n",
    "\n"
   ]
  },
  {
   "cell_type": "code",
   "execution_count": 96,
   "metadata": {},
   "outputs": [
    {
     "name": "stdout",
     "output_type": "stream",
     "text": [
      "  0     1                        2  3   4           5   6      7     8   \\\n",
      "0  1  1191             MAX RANDOLPH  M  29  WASHINGTON  DC  16:48  5:25   \n",
      "1  2  1080  NEED NAME KAISER RUNNER  M  25    PORTLAND  OR  17:31  5:39   \n",
      "2  3  1275               DAN FRANEK  M  52    PORTLAND  OR  18:15  5:53   \n",
      "3  4  1223              PAUL TAYLOR  M  54    PORTLAND  OR  18:31  5:58   \n",
      "4  5  1245              THEO KINMAN  M  22                  19:31  6:17   \n",
      "\n",
      "        9        10       11    12     13  \n",
      "0  1 of 78  M 21-39  1 of 33  0:08  16:56  \n",
      "1  2 of 78  M 21-39  2 of 33  0:09  17:40  \n",
      "2  3 of 78  M 40-54  1 of 27  0:07  18:22  \n",
      "3  4 of 78  M 40-54  2 of 27  0:07  18:38  \n",
      "4  5 of 78  M 21-39  3 of 33  0:09  19:40  \n"
     ]
    }
   ],
   "source": [
    "df = pd.DataFrame(data)\n",
    "print(df.head())"
   ]
  },
  {
   "cell_type": "code",
   "execution_count": 100,
   "metadata": {},
   "outputs": [
    {
     "data": {
      "text/html": [
       "<div>\n",
       "<style scoped>\n",
       "    .dataframe tbody tr th:only-of-type {\n",
       "        vertical-align: middle;\n",
       "    }\n",
       "\n",
       "    .dataframe tbody tr th {\n",
       "        vertical-align: top;\n",
       "    }\n",
       "\n",
       "    .dataframe thead th {\n",
       "        text-align: right;\n",
       "    }\n",
       "</style>\n",
       "<table border=\"1\" class=\"dataframe\">\n",
       "  <thead>\n",
       "    <tr style=\"text-align: right;\">\n",
       "      <th></th>\n",
       "      <th>Place</th>\n",
       "      <th>Bib</th>\n",
       "      <th>Name</th>\n",
       "      <th>Gender</th>\n",
       "      <th>Age</th>\n",
       "      <th>City</th>\n",
       "      <th>State</th>\n",
       "      <th>Chip Time</th>\n",
       "      <th>Chip Pace</th>\n",
       "      <th>Gender Place</th>\n",
       "      <th>Age Group</th>\n",
       "      <th>Age Group Place</th>\n",
       "      <th>Time to Start</th>\n",
       "      <th>Gun Time</th>\n",
       "    </tr>\n",
       "  </thead>\n",
       "  <tbody>\n",
       "    <tr>\n",
       "      <th>0</th>\n",
       "      <td>1</td>\n",
       "      <td>1191</td>\n",
       "      <td>MAX RANDOLPH</td>\n",
       "      <td>M</td>\n",
       "      <td>29</td>\n",
       "      <td>WASHINGTON</td>\n",
       "      <td>DC</td>\n",
       "      <td>16:48</td>\n",
       "      <td>5:25</td>\n",
       "      <td>1 of 78</td>\n",
       "      <td>M 21-39</td>\n",
       "      <td>1 of 33</td>\n",
       "      <td>0:08</td>\n",
       "      <td>16:56</td>\n",
       "    </tr>\n",
       "    <tr>\n",
       "      <th>1</th>\n",
       "      <td>2</td>\n",
       "      <td>1080</td>\n",
       "      <td>NEED NAME KAISER RUNNER</td>\n",
       "      <td>M</td>\n",
       "      <td>25</td>\n",
       "      <td>PORTLAND</td>\n",
       "      <td>OR</td>\n",
       "      <td>17:31</td>\n",
       "      <td>5:39</td>\n",
       "      <td>2 of 78</td>\n",
       "      <td>M 21-39</td>\n",
       "      <td>2 of 33</td>\n",
       "      <td>0:09</td>\n",
       "      <td>17:40</td>\n",
       "    </tr>\n",
       "    <tr>\n",
       "      <th>2</th>\n",
       "      <td>3</td>\n",
       "      <td>1275</td>\n",
       "      <td>DAN FRANEK</td>\n",
       "      <td>M</td>\n",
       "      <td>52</td>\n",
       "      <td>PORTLAND</td>\n",
       "      <td>OR</td>\n",
       "      <td>18:15</td>\n",
       "      <td>5:53</td>\n",
       "      <td>3 of 78</td>\n",
       "      <td>M 40-54</td>\n",
       "      <td>1 of 27</td>\n",
       "      <td>0:07</td>\n",
       "      <td>18:22</td>\n",
       "    </tr>\n",
       "    <tr>\n",
       "      <th>3</th>\n",
       "      <td>4</td>\n",
       "      <td>1223</td>\n",
       "      <td>PAUL TAYLOR</td>\n",
       "      <td>M</td>\n",
       "      <td>54</td>\n",
       "      <td>PORTLAND</td>\n",
       "      <td>OR</td>\n",
       "      <td>18:31</td>\n",
       "      <td>5:58</td>\n",
       "      <td>4 of 78</td>\n",
       "      <td>M 40-54</td>\n",
       "      <td>2 of 27</td>\n",
       "      <td>0:07</td>\n",
       "      <td>18:38</td>\n",
       "    </tr>\n",
       "    <tr>\n",
       "      <th>4</th>\n",
       "      <td>5</td>\n",
       "      <td>1245</td>\n",
       "      <td>THEO KINMAN</td>\n",
       "      <td>M</td>\n",
       "      <td>22</td>\n",
       "      <td></td>\n",
       "      <td></td>\n",
       "      <td>19:31</td>\n",
       "      <td>6:17</td>\n",
       "      <td>5 of 78</td>\n",
       "      <td>M 21-39</td>\n",
       "      <td>3 of 33</td>\n",
       "      <td>0:09</td>\n",
       "      <td>19:40</td>\n",
       "    </tr>\n",
       "  </tbody>\n",
       "</table>\n",
       "</div>"
      ],
      "text/plain": [
       "  Place   Bib                     Name Gender Age        City State Chip Time  \\\n",
       "0     1  1191             MAX RANDOLPH      M  29  WASHINGTON    DC     16:48   \n",
       "1     2  1080  NEED NAME KAISER RUNNER      M  25    PORTLAND    OR     17:31   \n",
       "2     3  1275               DAN FRANEK      M  52    PORTLAND    OR     18:15   \n",
       "3     4  1223              PAUL TAYLOR      M  54    PORTLAND    OR     18:31   \n",
       "4     5  1245              THEO KINMAN      M  22                       19:31   \n",
       "\n",
       "  Chip Pace Gender Place Age Group Age Group Place Time to Start Gun Time  \n",
       "0      5:25      1 of 78   M 21-39         1 of 33          0:08    16:56  \n",
       "1      5:39      2 of 78   M 21-39         2 of 33          0:09    17:40  \n",
       "2      5:53      3 of 78   M 40-54         1 of 27          0:07    18:22  \n",
       "3      5:58      4 of 78   M 40-54         2 of 27          0:07    18:38  \n",
       "4      6:17      5 of 78   M 21-39         3 of 33          0:09    19:40  "
      ]
     },
     "execution_count": 100,
     "metadata": {},
     "output_type": "execute_result"
    }
   ],
   "source": [
    "header_list = []\n",
    "col_header = soup.find_all('th')\n",
    "for col in col_header:\n",
    "    header_list.append(col.text)\n",
    "#print(header_list)\n",
    "df.columns = header_list\n",
    "df.head()"
   ]
  },
  {
   "cell_type": "code",
   "execution_count": 102,
   "metadata": {},
   "outputs": [
    {
     "name": "stdout",
     "output_type": "stream",
     "text": [
      "<class 'pandas.core.frame.DataFrame'>\n",
      "RangeIndex: 191 entries, 0 to 190\n",
      "Data columns (total 14 columns):\n",
      "Place              191 non-null object\n",
      "Bib                191 non-null object\n",
      "Name               191 non-null object\n",
      "Gender             191 non-null object\n",
      "Age                191 non-null object\n",
      "City               191 non-null object\n",
      "State              191 non-null object\n",
      "Chip Time          191 non-null object\n",
      "Chip Pace          191 non-null object\n",
      "Gender Place       191 non-null object\n",
      "Age Group          191 non-null object\n",
      "Age Group Place    191 non-null object\n",
      "Time to Start      191 non-null object\n",
      "Gun Time           191 non-null object\n",
      "dtypes: object(14)\n",
      "memory usage: 21.0+ KB\n"
     ]
    }
   ],
   "source": [
    "df.info()"
   ]
  },
  {
   "cell_type": "code",
   "execution_count": 106,
   "metadata": {},
   "outputs": [
    {
     "data": {
      "text/plain": [
       "(191, 14)"
      ]
     },
     "execution_count": 106,
     "metadata": {},
     "output_type": "execute_result"
    }
   ],
   "source": [
    "df.shape"
   ]
  },
  {
   "cell_type": "code",
   "execution_count": 105,
   "metadata": {},
   "outputs": [
    {
     "data": {
      "text/plain": [
       "(191, 14)"
      ]
     },
     "execution_count": 105,
     "metadata": {},
     "output_type": "execute_result"
    }
   ],
   "source": [
    "df2 = df.dropna(how = 'any') \n",
    "#drop any row with nun value in it (default axis=0 for row and axis=1 for column)\n",
    "df2.shape"
   ]
  },
  {
   "cell_type": "code",
   "execution_count": 122,
   "metadata": {},
   "outputs": [
    {
     "ename": "SyntaxError",
     "evalue": "invalid syntax (<ipython-input-122-2cc4870ea905>, line 6)",
     "output_type": "error",
     "traceback": [
      "\u001b[1;36m  File \u001b[1;32m\"<ipython-input-122-2cc4870ea905>\"\u001b[1;36m, line \u001b[1;32m6\u001b[0m\n\u001b[1;33m    df2['ChipTime_minutes']/\u001b[0m\n\u001b[1;37m                            ^\u001b[0m\n\u001b[1;31mSyntaxError\u001b[0m\u001b[1;31m:\u001b[0m invalid syntax\n"
     ]
    }
   ],
   "source": [
    "df2['Chip Time'] = [x + ':00' for x in df2['Chip Time']]\n",
    "df2['ChipTime_minutes'] = pd.to_timedelta(df2['Chip Time'])\n",
    "df2['ChipTime_minutes'] = df2['Chip Time'].astype('timedelta64[s]')/60\n",
    "\n",
    "df2['ChipTime_minutes'] = (pd.to_timedelta(df2['Chip Time']).dt.total_seconds())\n",
    "df2['ChipTime_minutes']/\n"
   ]
  },
  {
   "cell_type": "code",
   "execution_count": 124,
   "metadata": {},
   "outputs": [
    {
     "data": {
      "text/plain": [
       "191"
      ]
     },
     "execution_count": 124,
     "metadata": {},
     "output_type": "execute_result"
    }
   ],
   "source": [
    "df['Gender Place'].nunique()"
   ]
  },
  {
   "cell_type": "code",
   "execution_count": 126,
   "metadata": {},
   "outputs": [
    {
     "data": {
      "text/plain": [
       "190"
      ]
     },
     "execution_count": 126,
     "metadata": {},
     "output_type": "execute_result"
    }
   ],
   "source": [
    "df['Name'].nunique()"
   ]
  },
  {
   "cell_type": "code",
   "execution_count": 127,
   "metadata": {},
   "outputs": [
    {
     "data": {
      "text/plain": [
       "2"
      ]
     },
     "execution_count": 127,
     "metadata": {},
     "output_type": "execute_result"
    }
   ],
   "source": [
    "df['Gender'].nunique()"
   ]
  },
  {
   "cell_type": "code",
   "execution_count": 140,
   "metadata": {},
   "outputs": [
    {
     "data": {
      "text/plain": [
       "F    113\n",
       "M     78\n",
       "Name: Gender, dtype: int64"
      ]
     },
     "execution_count": 140,
     "metadata": {},
     "output_type": "execute_result"
    }
   ],
   "source": [
    "df['Gender'].value_counts()"
   ]
  },
  {
   "cell_type": "code",
   "execution_count": 160,
   "metadata": {},
   "outputs": [
    {
     "data": {
      "text/plain": [
       "pandas.core.series.Series"
      ]
     },
     "execution_count": 160,
     "metadata": {},
     "output_type": "execute_result"
    }
   ],
   "source": [
    "df3 = df['Name'].value_counts()\n",
    "type(df3)"
   ]
  },
  {
   "cell_type": "code",
   "execution_count": 165,
   "metadata": {},
   "outputs": [
    {
     "data": {
      "text/plain": [
       "'UNKNOWN RUNNER SEE TIMER'"
      ]
     },
     "execution_count": 165,
     "metadata": {},
     "output_type": "execute_result"
    }
   ],
   "source": [
    "list(df3.index.values)[0]"
   ]
  },
  {
   "cell_type": "code",
   "execution_count": 98,
   "metadata": {},
   "outputs": [
    {
     "name": "stdout",
     "output_type": "stream",
     "text": [
      "https://www.mlkdreamrun.com/\n",
      "mailto:timing@hubertiming.com\n",
      "https://www.hubertiming.com/\n",
      "/results/2018MLK10K\n",
      "/results/2018MLK15K\n",
      "/results/summary/2018MLK\n",
      "#tabs-1\n",
      "https://www.hubertiming.com/\n",
      "https://facebook.com/hubertiming/\n"
     ]
    }
   ],
   "source": [
    "links = soup.find_all('a', href=True)\n",
    "for link in links:\n",
    "    print(link.get('href'))"
   ]
  },
  {
   "cell_type": "code",
   "execution_count": 167,
   "metadata": {},
   "outputs": [
    {
     "data": {
      "text/plain": [
       "<BarContainer object of 191 artists>"
      ]
     },
     "execution_count": 167,
     "metadata": {},
     "output_type": "execute_result"
    },
    {
     "data": {
      "image/png": "[encoded data removed]",
      "text/plain": [
       "<Figure size 432x288 with 1 Axes>"
      ]
     },
     "metadata": {
      "needs_background": "light"
     },
     "output_type": "display_data"
    }
   ],
   "source": [
    "df2['Age'] = round(pd.to_numeric(df2['Age'],errors = 'coerce'))\n",
    "plt.bar(df2['Gender'],df2['Age'])"
   ]
  },
  {
   "cell_type": "code",
   "execution_count": 173,
   "metadata": {},
   "outputs": [
    {
     "data": {
      "text/plain": [
       "<matplotlib.collections.PathCollection at 0x1fbb1969cf8>"
      ]
     },
     "execution_count": 173,
     "metadata": {},
     "output_type": "execute_result"
    },
    {
     "data": {
      "image/png": "[encoded data removed]",
      "text/plain": [
       "<Figure size 432x288 with 1 Axes>"
      ]
     },
     "metadata": {
      "needs_background": "light"
     },
     "output_type": "display_data"
    }
   ],
   "source": [
    "plt.scatter(df2['Gender'],df2['Age'])"
   ]
  },
  {
   "cell_type": "code",
   "execution_count": null,
   "metadata": {},
   "outputs": [],
   "source": []
  },
  {
   "cell_type": "code",
   "execution_count": null,
   "metadata": {},
   "outputs": [],
   "source": []
  },
  {
   "cell_type": "code",
   "execution_count": null,
   "metadata": {},
   "outputs": [],
   "source": []
  },
  {
   "cell_type": "code",
   "execution_count": null,
   "metadata": {},
   "outputs": [],
   "source": []
  }
 ],
 "metadata": {
  "kernelspec": {
   "display_name": "Python 3",
   "language": "python",
   "name": "python3"
  },
  "language_info": {
   "codemirror_mode": {
    "name": "ipython",
    "version": 3
   },
   "file_extension": ".py",
   "mimetype": "text/x-python",
   "name": "python",
   "nbconvert_exporter": "python",
   "pygments_lexer": "ipython3",
   "version": "3.7.3"
  }
 },
 "nbformat": 4,
 "nbformat_minor": 2
}
