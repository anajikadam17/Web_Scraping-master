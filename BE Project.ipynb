{
 "cells": [
  {
   "cell_type": "markdown",
   "metadata": {},
   "source": [
    "Follow link for Project Repository"
   ]
  },
  {
   "cell_type": "markdown",
   "metadata": {},
   "source": [
    "https://github.com/anajikadam17/IoT-Project_BE_project"
   ]
  },
  {
   "cell_type": "markdown",
   "metadata": {},
   "source": [
    "## BE Final year project Live data Web Scripting "
   ]
  },
  {
   "cell_type": "code",
   "execution_count": 79,
   "metadata": {},
   "outputs": [],
   "source": [
    "# Import required Libraries\n",
    "import pandas as pd\n",
    "import numpy as np\n",
    "import seaborn as sns\n",
    "import matplotlib.pyplot as plt\n",
    "%matplotlib inline\n",
    "\n",
    "from urllib.request import urlopen\n",
    "from bs4 import BeautifulSoup\n",
    "import re \n"
   ]
  },
  {
   "cell_type": "code",
   "execution_count": null,
   "metadata": {},
   "outputs": [],
   "source": [
    "# url = 'http://www.anajiproject.tk/project3/data1.php'  # This URl is not working Now\n",
    "url = 'https://anajiprojects.000webhostapp.com/project3/data1.php'   # Working URL\n",
    "html = urlopen(url)\n",
    "soup = BeautifulSoup(html)"
   ]
  },
  {
   "cell_type": "code",
   "execution_count": 80,
   "metadata": {},
   "outputs": [
    {
     "name": "stdout",
     "output_type": "stream",
     "text": [
      "<title>Projects | Anaji_project</title>\n",
      "Projects | Anaji_project\n"
     ]
    }
   ],
   "source": [
    "# Find out Title of webpage  \n",
    "title = soup.title\n",
    "print(title)\n",
    "print(title.text)"
   ]
  },
  {
   "cell_type": "code",
   "execution_count": 81,
   "metadata": {},
   "outputs": [
    {
     "data": {
      "text/plain": [
       "630"
      ]
     },
     "execution_count": 81,
     "metadata": {},
     "output_type": "execute_result"
    }
   ],
   "source": [
    "# Find Out length of Data\n",
    "data = []\n",
    "allrows = soup.find_all('tr')\n",
    "\n",
    "for row in allrows:\n",
    "    row_list = row.find_all('td')\n",
    "    dataRow =[]\n",
    "    for cell in row_list:\n",
    "        dataRow.append(cell.text)\n",
    "    data.append(dataRow)\n",
    "len(data)\n",
    "# print(data)"
   ]
  },
  {
   "cell_type": "code",
   "execution_count": 82,
   "metadata": {},
   "outputs": [
    {
     "name": "stdout",
     "output_type": "stream",
     "text": [
      "11\n",
      "['Date & Time', 'Temperature', 'Action', 'Humidity', 'Ammonia Gas Level', 'Action', 'Light', 'Action', 'Water Level', 'Action', 'Cleaning']\n"
     ]
    }
   ],
   "source": [
    "# Find out number of columns and columns names\n",
    "header_list = []\n",
    "header = soup.find_all('th')\n",
    "for col in header:\n",
    "    header_list.append(col.text)\n",
    "print(len(header_list))\n",
    "print(header_list)"
   ]
  },
  {
   "cell_type": "code",
   "execution_count": 83,
   "metadata": {},
   "outputs": [
    {
     "name": "stdout",
     "output_type": "stream",
     "text": [
      "                    0     1       2     3     4          5     6         7   \\\n",
      "0                 None  None    None  None  None       None  None      None   \n",
      "1  26/04/2019 03:40 PM    31  FanOff    49   188  ExhFanOFF   114  LightOFF   \n",
      "2  26/04/2019 03:39 PM    31  FanOff    50   182  ExhFanOFF   158  LightOFF   \n",
      "3  26/04/2019 03:39 PM    31  FanOff    50   183  ExhFanOFF   137  LightOFF   \n",
      "4  26/04/2019 03:38 PM    31  FanOff    50   189  ExhFanOFF   165  LightOFF   \n",
      "\n",
      "     8        9           10  \n",
      "0  None     None        None  \n",
      "1    75  PumpOff  ProcessOFF  \n",
      "2    75  PumpOff  ProcessOFF  \n",
      "3    75  PumpOff  ProcessOFF  \n",
      "4    75  PumpOff  ProcessOFF  \n",
      "(630, 11)\n"
     ]
    }
   ],
   "source": [
    "# Create dataframe for extracted data and also sinf shape of dataframe\n",
    "df1 = pd.DataFrame(data)\n",
    "print(df1.head())\n",
    "print(df1.shape)"
   ]
  },
  {
   "cell_type": "code",
   "execution_count": 96,
   "metadata": {
    "scrolled": true
   },
   "outputs": [
    {
     "data": {
      "text/html": [
       "<div>\n",
       "<style scoped>\n",
       "    .dataframe tbody tr th:only-of-type {\n",
       "        vertical-align: middle;\n",
       "    }\n",
       "\n",
       "    .dataframe tbody tr th {\n",
       "        vertical-align: top;\n",
       "    }\n",
       "\n",
       "    .dataframe thead th {\n",
       "        text-align: right;\n",
       "    }\n",
       "</style>\n",
       "<table border=\"1\" class=\"dataframe\">\n",
       "  <thead>\n",
       "    <tr style=\"text-align: right;\">\n",
       "      <th></th>\n",
       "      <th>Date &amp; Time</th>\n",
       "      <th>Temperature</th>\n",
       "      <th>Action</th>\n",
       "      <th>Humidity</th>\n",
       "      <th>Ammonia Gas Level</th>\n",
       "      <th>Action</th>\n",
       "      <th>Light</th>\n",
       "      <th>Action</th>\n",
       "      <th>Water Level</th>\n",
       "      <th>Action</th>\n",
       "      <th>Cleaning</th>\n",
       "    </tr>\n",
       "  </thead>\n",
       "  <tbody>\n",
       "    <tr>\n",
       "      <th>1</th>\n",
       "      <td>26/04/2019 03:40 PM</td>\n",
       "      <td>31</td>\n",
       "      <td>FanOff</td>\n",
       "      <td>49</td>\n",
       "      <td>188</td>\n",
       "      <td>ExhFanOFF</td>\n",
       "      <td>114</td>\n",
       "      <td>LightOFF</td>\n",
       "      <td>75</td>\n",
       "      <td>PumpOff</td>\n",
       "      <td>ProcessOFF</td>\n",
       "    </tr>\n",
       "    <tr>\n",
       "      <th>2</th>\n",
       "      <td>26/04/2019 03:39 PM</td>\n",
       "      <td>31</td>\n",
       "      <td>FanOff</td>\n",
       "      <td>50</td>\n",
       "      <td>182</td>\n",
       "      <td>ExhFanOFF</td>\n",
       "      <td>158</td>\n",
       "      <td>LightOFF</td>\n",
       "      <td>75</td>\n",
       "      <td>PumpOff</td>\n",
       "      <td>ProcessOFF</td>\n",
       "    </tr>\n",
       "    <tr>\n",
       "      <th>3</th>\n",
       "      <td>26/04/2019 03:39 PM</td>\n",
       "      <td>31</td>\n",
       "      <td>FanOff</td>\n",
       "      <td>50</td>\n",
       "      <td>183</td>\n",
       "      <td>ExhFanOFF</td>\n",
       "      <td>137</td>\n",
       "      <td>LightOFF</td>\n",
       "      <td>75</td>\n",
       "      <td>PumpOff</td>\n",
       "      <td>ProcessOFF</td>\n",
       "    </tr>\n",
       "    <tr>\n",
       "      <th>4</th>\n",
       "      <td>26/04/2019 03:38 PM</td>\n",
       "      <td>31</td>\n",
       "      <td>FanOff</td>\n",
       "      <td>50</td>\n",
       "      <td>189</td>\n",
       "      <td>ExhFanOFF</td>\n",
       "      <td>165</td>\n",
       "      <td>LightOFF</td>\n",
       "      <td>75</td>\n",
       "      <td>PumpOff</td>\n",
       "      <td>ProcessOFF</td>\n",
       "    </tr>\n",
       "    <tr>\n",
       "      <th>5</th>\n",
       "      <td>26/04/2019 03:38 PM</td>\n",
       "      <td>31</td>\n",
       "      <td>FanOff</td>\n",
       "      <td>50</td>\n",
       "      <td>190</td>\n",
       "      <td>ExhFanOFF</td>\n",
       "      <td>117</td>\n",
       "      <td>LightOFF</td>\n",
       "      <td>45</td>\n",
       "      <td>PumpOff</td>\n",
       "      <td>ProcessOFF</td>\n",
       "    </tr>\n",
       "  </tbody>\n",
       "</table>\n",
       "</div>"
      ],
      "text/plain": [
       "           Date & Time Temperature  Action Humidity Ammonia Gas Level  \\\n",
       "1  26/04/2019 03:40 PM          31  FanOff       49               188   \n",
       "2  26/04/2019 03:39 PM          31  FanOff       50               182   \n",
       "3  26/04/2019 03:39 PM          31  FanOff       50               183   \n",
       "4  26/04/2019 03:38 PM          31  FanOff       50               189   \n",
       "5  26/04/2019 03:38 PM          31  FanOff       50               190   \n",
       "\n",
       "      Action Light    Action Water Level   Action    Cleaning  \n",
       "1  ExhFanOFF   114  LightOFF          75  PumpOff  ProcessOFF  \n",
       "2  ExhFanOFF   158  LightOFF          75  PumpOff  ProcessOFF  \n",
       "3  ExhFanOFF   137  LightOFF          75  PumpOff  ProcessOFF  \n",
       "4  ExhFanOFF   165  LightOFF          75  PumpOff  ProcessOFF  \n",
       "5  ExhFanOFF   117  LightOFF          45  PumpOff  ProcessOFF  "
      ]
     },
     "execution_count": 96,
     "metadata": {},
     "output_type": "execute_result"
    }
   ],
   "source": [
    "header_list = []\n",
    "col_header = soup.find_all('th')\n",
    "for col in col_header:\n",
    "    header_list.append(col.text)\n",
    "#print(header_list)\n",
    "df1.columns = header_list\n",
    "df = df1[1:]\n",
    "df.head()"
   ]
  },
  {
   "cell_type": "code",
   "execution_count": 97,
   "metadata": {
    "scrolled": true
   },
   "outputs": [
    {
     "data": {
      "text/plain": [
       "Index(['Date & Time', 'Temperature', 'Action', 'Humidity', 'Ammonia Gas Level',\n",
       "       'Action', 'Light', 'Action', 'Water Level', 'Action', 'Cleaning'],\n",
       "      dtype='object')"
      ]
     },
     "execution_count": 97,
     "metadata": {},
     "output_type": "execute_result"
    }
   ],
   "source": [
    "# find all columns\n",
    "df.columns"
   ]
  },
  {
   "cell_type": "code",
   "execution_count": 98,
   "metadata": {},
   "outputs": [],
   "source": [
    "# Rename Columns name in proper format\n",
    "df.columns = ['Date_Time', 'Temperature', 'Action1', 'Humidity', 'Ammonia_Gas_Level','Action2', 'Light', 'Action3', 'Water_Level', 'Action4', 'Cleaning']"
   ]
  },
  {
   "cell_type": "code",
   "execution_count": 99,
   "metadata": {},
   "outputs": [
    {
     "name": "stdout",
     "output_type": "stream",
     "text": [
      "<class 'pandas.core.frame.DataFrame'>\n",
      "RangeIndex: 629 entries, 1 to 629\n",
      "Data columns (total 11 columns):\n",
      "Date_Time            629 non-null object\n",
      "Temperature          629 non-null object\n",
      "Action1              629 non-null object\n",
      "Humidity             629 non-null object\n",
      "Ammonia_Gas_Level    629 non-null object\n",
      "Action2              629 non-null object\n",
      "Light                629 non-null object\n",
      "Action3              629 non-null object\n",
      "Water_Level          629 non-null object\n",
      "Action4              629 non-null object\n",
      "Cleaning             629 non-null object\n",
      "dtypes: object(11)\n",
      "memory usage: 54.1+ KB\n"
     ]
    }
   ],
   "source": [
    "df.info()"
   ]
  },
  {
   "cell_type": "code",
   "execution_count": 100,
   "metadata": {},
   "outputs": [],
   "source": [
    "# save data file as csv\n",
    "df.to_csv('data1.csv')"
   ]
  },
  {
   "cell_type": "code",
   "execution_count": 101,
   "metadata": {},
   "outputs": [
    {
     "data": {
      "text/html": [
       "<div>\n",
       "<style scoped>\n",
       "    .dataframe tbody tr th:only-of-type {\n",
       "        vertical-align: middle;\n",
       "    }\n",
       "\n",
       "    .dataframe tbody tr th {\n",
       "        vertical-align: top;\n",
       "    }\n",
       "\n",
       "    .dataframe thead th {\n",
       "        text-align: right;\n",
       "    }\n",
       "</style>\n",
       "<table border=\"1\" class=\"dataframe\">\n",
       "  <thead>\n",
       "    <tr style=\"text-align: right;\">\n",
       "      <th></th>\n",
       "      <th>Date_Time</th>\n",
       "      <th>Temperature</th>\n",
       "      <th>Action1</th>\n",
       "      <th>Humidity</th>\n",
       "      <th>Ammonia_Gas_Level</th>\n",
       "      <th>Action2</th>\n",
       "      <th>Light</th>\n",
       "      <th>Action3</th>\n",
       "      <th>Water_Level</th>\n",
       "      <th>Action4</th>\n",
       "      <th>Cleaning</th>\n",
       "    </tr>\n",
       "  </thead>\n",
       "  <tbody>\n",
       "    <tr>\n",
       "      <th>1</th>\n",
       "      <td>26/04/2019 03:40 PM</td>\n",
       "      <td>31</td>\n",
       "      <td>FanOff</td>\n",
       "      <td>49</td>\n",
       "      <td>188</td>\n",
       "      <td>ExhFanOFF</td>\n",
       "      <td>114</td>\n",
       "      <td>LightOFF</td>\n",
       "      <td>75</td>\n",
       "      <td>PumpOff</td>\n",
       "      <td>ProcessOFF</td>\n",
       "    </tr>\n",
       "    <tr>\n",
       "      <th>2</th>\n",
       "      <td>26/04/2019 03:39 PM</td>\n",
       "      <td>31</td>\n",
       "      <td>FanOff</td>\n",
       "      <td>50</td>\n",
       "      <td>182</td>\n",
       "      <td>ExhFanOFF</td>\n",
       "      <td>158</td>\n",
       "      <td>LightOFF</td>\n",
       "      <td>75</td>\n",
       "      <td>PumpOff</td>\n",
       "      <td>ProcessOFF</td>\n",
       "    </tr>\n",
       "    <tr>\n",
       "      <th>3</th>\n",
       "      <td>26/04/2019 03:39 PM</td>\n",
       "      <td>31</td>\n",
       "      <td>FanOff</td>\n",
       "      <td>50</td>\n",
       "      <td>183</td>\n",
       "      <td>ExhFanOFF</td>\n",
       "      <td>137</td>\n",
       "      <td>LightOFF</td>\n",
       "      <td>75</td>\n",
       "      <td>PumpOff</td>\n",
       "      <td>ProcessOFF</td>\n",
       "    </tr>\n",
       "    <tr>\n",
       "      <th>4</th>\n",
       "      <td>26/04/2019 03:38 PM</td>\n",
       "      <td>31</td>\n",
       "      <td>FanOff</td>\n",
       "      <td>50</td>\n",
       "      <td>189</td>\n",
       "      <td>ExhFanOFF</td>\n",
       "      <td>165</td>\n",
       "      <td>LightOFF</td>\n",
       "      <td>75</td>\n",
       "      <td>PumpOff</td>\n",
       "      <td>ProcessOFF</td>\n",
       "    </tr>\n",
       "    <tr>\n",
       "      <th>5</th>\n",
       "      <td>26/04/2019 03:38 PM</td>\n",
       "      <td>31</td>\n",
       "      <td>FanOff</td>\n",
       "      <td>50</td>\n",
       "      <td>190</td>\n",
       "      <td>ExhFanOFF</td>\n",
       "      <td>117</td>\n",
       "      <td>LightOFF</td>\n",
       "      <td>45</td>\n",
       "      <td>PumpOff</td>\n",
       "      <td>ProcessOFF</td>\n",
       "    </tr>\n",
       "  </tbody>\n",
       "</table>\n",
       "</div>"
      ],
      "text/plain": [
       "             Date_Time Temperature Action1 Humidity Ammonia_Gas_Level  \\\n",
       "1  26/04/2019 03:40 PM          31  FanOff       49               188   \n",
       "2  26/04/2019 03:39 PM          31  FanOff       50               182   \n",
       "3  26/04/2019 03:39 PM          31  FanOff       50               183   \n",
       "4  26/04/2019 03:38 PM          31  FanOff       50               189   \n",
       "5  26/04/2019 03:38 PM          31  FanOff       50               190   \n",
       "\n",
       "     Action2 Light   Action3 Water_Level  Action4    Cleaning  \n",
       "1  ExhFanOFF   114  LightOFF          75  PumpOff  ProcessOFF  \n",
       "2  ExhFanOFF   158  LightOFF          75  PumpOff  ProcessOFF  \n",
       "3  ExhFanOFF   137  LightOFF          75  PumpOff  ProcessOFF  \n",
       "4  ExhFanOFF   165  LightOFF          75  PumpOff  ProcessOFF  \n",
       "5  ExhFanOFF   117  LightOFF          45  PumpOff  ProcessOFF  "
      ]
     },
     "execution_count": 101,
     "metadata": {},
     "output_type": "execute_result"
    }
   ],
   "source": [
    "df.head()"
   ]
  },
  {
   "cell_type": "code",
   "execution_count": 114,
   "metadata": {
    "scrolled": true
   },
   "outputs": [
    {
     "data": {
      "text/html": [
       "<div>\n",
       "<style scoped>\n",
       "    .dataframe tbody tr th:only-of-type {\n",
       "        vertical-align: middle;\n",
       "    }\n",
       "\n",
       "    .dataframe tbody tr th {\n",
       "        vertical-align: top;\n",
       "    }\n",
       "\n",
       "    .dataframe thead th {\n",
       "        text-align: right;\n",
       "    }\n",
       "</style>\n",
       "<table border=\"1\" class=\"dataframe\">\n",
       "  <thead>\n",
       "    <tr style=\"text-align: right;\">\n",
       "      <th></th>\n",
       "      <th>Date_Time</th>\n",
       "      <th>Temperature</th>\n",
       "      <th>Humidity</th>\n",
       "      <th>Ammonia_Gas_Level</th>\n",
       "      <th>Light</th>\n",
       "      <th>Water_Level</th>\n",
       "    </tr>\n",
       "  </thead>\n",
       "  <tbody>\n",
       "    <tr>\n",
       "      <th>1</th>\n",
       "      <td>26/04/2019 03:40 PM</td>\n",
       "      <td>31</td>\n",
       "      <td>49</td>\n",
       "      <td>188</td>\n",
       "      <td>114</td>\n",
       "      <td>75</td>\n",
       "    </tr>\n",
       "    <tr>\n",
       "      <th>2</th>\n",
       "      <td>26/04/2019 03:39 PM</td>\n",
       "      <td>31</td>\n",
       "      <td>50</td>\n",
       "      <td>182</td>\n",
       "      <td>158</td>\n",
       "      <td>75</td>\n",
       "    </tr>\n",
       "    <tr>\n",
       "      <th>3</th>\n",
       "      <td>26/04/2019 03:39 PM</td>\n",
       "      <td>31</td>\n",
       "      <td>50</td>\n",
       "      <td>183</td>\n",
       "      <td>137</td>\n",
       "      <td>75</td>\n",
       "    </tr>\n",
       "    <tr>\n",
       "      <th>4</th>\n",
       "      <td>26/04/2019 03:38 PM</td>\n",
       "      <td>31</td>\n",
       "      <td>50</td>\n",
       "      <td>189</td>\n",
       "      <td>165</td>\n",
       "      <td>75</td>\n",
       "    </tr>\n",
       "    <tr>\n",
       "      <th>5</th>\n",
       "      <td>26/04/2019 03:38 PM</td>\n",
       "      <td>31</td>\n",
       "      <td>50</td>\n",
       "      <td>190</td>\n",
       "      <td>117</td>\n",
       "      <td>45</td>\n",
       "    </tr>\n",
       "  </tbody>\n",
       "</table>\n",
       "</div>"
      ],
      "text/plain": [
       "             Date_Time  Temperature  Humidity  Ammonia_Gas_Level  Light  \\\n",
       "1  26/04/2019 03:40 PM           31        49                188    114   \n",
       "2  26/04/2019 03:39 PM           31        50                182    158   \n",
       "3  26/04/2019 03:39 PM           31        50                183    137   \n",
       "4  26/04/2019 03:38 PM           31        50                189    165   \n",
       "5  26/04/2019 03:38 PM           31        50                190    117   \n",
       "\n",
       "   Water_Level  \n",
       "1           75  \n",
       "2           75  \n",
       "3           75  \n",
       "4           75  \n",
       "5           45  "
      ]
     },
     "execution_count": 114,
     "metadata": {},
     "output_type": "execute_result"
    }
   ],
   "source": [
    "# apply some as pd.to_numeric function\n",
    "# dataframe of numeric content\n",
    "df[['Temperature','Humidity', 'Ammonia_Gas_Level','Light', 'Water_Level']] = df[['Temperature','Humidity', 'Ammonia_Gas_Level','Light', 'Water_Level']].apply(pd.to_numeric)\n",
    "data = df[['Date_Time', 'Temperature','Humidity', 'Ammonia_Gas_Level','Light', 'Water_Level']]\n",
    "# data = df['Date_Time']\n",
    "data.head()\n"
   ]
  },
  {
   "cell_type": "code",
   "execution_count": 115,
   "metadata": {},
   "outputs": [
    {
     "name": "stdout",
     "output_type": "stream",
     "text": [
      "Date_Time            object\n",
      "Temperature           int64\n",
      "Action1              object\n",
      "Humidity              int64\n",
      "Ammonia_Gas_Level     int64\n",
      "Action2              object\n",
      "Light                 int64\n",
      "Action3              object\n",
      "Water_Level           int64\n",
      "Action4              object\n",
      "Cleaning             object\n",
      "dtype: object\n"
     ]
    }
   ],
   "source": [
    "# Check data types\n",
    "df = df.infer_objects() \n",
    "print(df.dtypes)"
   ]
  },
  {
   "cell_type": "code",
   "execution_count": 116,
   "metadata": {
    "scrolled": true
   },
   "outputs": [
    {
     "data": {
      "text/html": [
       "<div>\n",
       "<style scoped>\n",
       "    .dataframe tbody tr th:only-of-type {\n",
       "        vertical-align: middle;\n",
       "    }\n",
       "\n",
       "    .dataframe tbody tr th {\n",
       "        vertical-align: top;\n",
       "    }\n",
       "\n",
       "    .dataframe thead th {\n",
       "        text-align: right;\n",
       "    }\n",
       "</style>\n",
       "<table border=\"1\" class=\"dataframe\">\n",
       "  <thead>\n",
       "    <tr style=\"text-align: right;\">\n",
       "      <th></th>\n",
       "      <th>Date_Time</th>\n",
       "      <th>Action1</th>\n",
       "      <th>Action2</th>\n",
       "      <th>Action3</th>\n",
       "      <th>Action4</th>\n",
       "      <th>Cleaning</th>\n",
       "    </tr>\n",
       "  </thead>\n",
       "  <tbody>\n",
       "    <tr>\n",
       "      <th>1</th>\n",
       "      <td>26/04/2019 03:40 PM</td>\n",
       "      <td>FanOff</td>\n",
       "      <td>ExhFanOFF</td>\n",
       "      <td>LightOFF</td>\n",
       "      <td>PumpOff</td>\n",
       "      <td>ProcessOFF</td>\n",
       "    </tr>\n",
       "    <tr>\n",
       "      <th>2</th>\n",
       "      <td>26/04/2019 03:39 PM</td>\n",
       "      <td>FanOff</td>\n",
       "      <td>ExhFanOFF</td>\n",
       "      <td>LightOFF</td>\n",
       "      <td>PumpOff</td>\n",
       "      <td>ProcessOFF</td>\n",
       "    </tr>\n",
       "    <tr>\n",
       "      <th>3</th>\n",
       "      <td>26/04/2019 03:39 PM</td>\n",
       "      <td>FanOff</td>\n",
       "      <td>ExhFanOFF</td>\n",
       "      <td>LightOFF</td>\n",
       "      <td>PumpOff</td>\n",
       "      <td>ProcessOFF</td>\n",
       "    </tr>\n",
       "    <tr>\n",
       "      <th>4</th>\n",
       "      <td>26/04/2019 03:38 PM</td>\n",
       "      <td>FanOff</td>\n",
       "      <td>ExhFanOFF</td>\n",
       "      <td>LightOFF</td>\n",
       "      <td>PumpOff</td>\n",
       "      <td>ProcessOFF</td>\n",
       "    </tr>\n",
       "    <tr>\n",
       "      <th>5</th>\n",
       "      <td>26/04/2019 03:38 PM</td>\n",
       "      <td>FanOff</td>\n",
       "      <td>ExhFanOFF</td>\n",
       "      <td>LightOFF</td>\n",
       "      <td>PumpOff</td>\n",
       "      <td>ProcessOFF</td>\n",
       "    </tr>\n",
       "  </tbody>\n",
       "</table>\n",
       "</div>"
      ],
      "text/plain": [
       "             Date_Time Action1    Action2   Action3  Action4    Cleaning\n",
       "1  26/04/2019 03:40 PM  FanOff  ExhFanOFF  LightOFF  PumpOff  ProcessOFF\n",
       "2  26/04/2019 03:39 PM  FanOff  ExhFanOFF  LightOFF  PumpOff  ProcessOFF\n",
       "3  26/04/2019 03:39 PM  FanOff  ExhFanOFF  LightOFF  PumpOff  ProcessOFF\n",
       "4  26/04/2019 03:38 PM  FanOff  ExhFanOFF  LightOFF  PumpOff  ProcessOFF\n",
       "5  26/04/2019 03:38 PM  FanOff  ExhFanOFF  LightOFF  PumpOff  ProcessOFF"
      ]
     },
     "execution_count": 116,
     "metadata": {},
     "output_type": "execute_result"
    }
   ],
   "source": [
    "# Chategorical dataframe\n",
    "data1 = df[['Date_Time','Action1','Action2','Action3','Action4', 'Cleaning']]\n",
    "data1.head()"
   ]
  },
  {
   "cell_type": "code",
   "execution_count": 118,
   "metadata": {
    "scrolled": true
   },
   "outputs": [
    {
     "name": "stdout",
     "output_type": "stream",
     "text": [
      "Maximum date from dataset: 2019-04-26\n",
      "Minimum date from dataset: 2019-01-04\n",
      "Forecast Lag: 112\n"
     ]
    }
   ],
   "source": [
    "# Find out number of days record\n",
    "max_date_date = pd.to_datetime(df['Date_Time'].max()).date()\n",
    "min_date_date = pd.to_datetime(df['Date_Time'].min()).date()\n",
    "lag_size = (max_date_date - min_date_date).days\n",
    "print('Maximum date from dataset: {}'.format(max_date_date))\n",
    "print('Minimum date from dataset: {}'.format(min_date_date))\n",
    "print('Forecast Lag: {}'.format(lag_size))"
   ]
  },
  {
   "cell_type": "code",
   "execution_count": 122,
   "metadata": {},
   "outputs": [
    {
     "name": "stdout",
     "output_type": "stream",
     "text": [
      "Numeric Features:\n",
      "['Temperature', 'Humidity', 'Ammonia_Gas_Level', 'Light', 'Water_Level']\n",
      "================================================================================\n",
      "Categorical Features:\n",
      "['Date_Time', 'Action1', 'Action2', 'Action3', 'Action4', 'Cleaning']\n"
     ]
    }
   ],
   "source": [
    "# Function to identify numeric features\n",
    "def numeric_features(dataset):\n",
    "    numeric_col = dataset.select_dtypes(include=np.number).columns.tolist()\n",
    "    return numeric_col\n",
    "\n",
    "numeric_columns = numeric_features(data)\n",
    "print(\"Numeric Features:\")\n",
    "print(numeric_columns)\n",
    "print(\"====\"*20)\n",
    "\n",
    "# Function to identify categorical features\n",
    "def categorical_features(dataset):\n",
    "    categorical_col = dataset.select_dtypes(exclude=np.number).columns.tolist()\n",
    "    return categorical_col\n",
    "\n",
    "categorical_columns = categorical_features(data1)\n",
    "print(\"Categorical Features:\")\n",
    "print(categorical_columns)"
   ]
  },
  {
   "cell_type": "code",
   "execution_count": 57,
   "metadata": {},
   "outputs": [
    {
     "data": {
      "image/png": "[encoded data removed]",
      "text/plain": [
       "<Figure size 432x288 with 1 Axes>"
      ]
     },
     "metadata": {
      "needs_background": "light"
     },
     "output_type": "display_data"
    }
   ],
   "source": [
    "# Percentage plot for Temperature \n",
    "ax = sns.countplot(x = 'Temperature', data = data)\n",
    "plt.title('count of data points given in respective Temperature')\n",
    "plt.xlabel('Temperature')\n",
    "plt.ylabel('frequence')\n",
    "for p in ax.patches:\n",
    "        ax.annotate('%{:.1f}'.format(p.get_height()/data.shape[0]*100), (p.get_x() + 0.1, p.get_height()))\n",
    "plt.show()"
   ]
  },
  {
   "cell_type": "code",
   "execution_count": 155,
   "metadata": {},
   "outputs": [
    {
     "data": {
      "image/png": "[encoded data removed]",
      "text/plain": [
       "<Figure size 432x288 with 1 Axes>"
      ]
     },
     "metadata": {
      "needs_background": "light"
     },
     "output_type": "display_data"
    }
   ],
   "source": [
    "# Percentage plot for Humidity \n",
    "ax = sns.countplot(x = 'Humidity', data = data)\n",
    "plt.title('count of data points given in respective Humidity')\n",
    "plt.xlabel('Humidity')\n",
    "plt.ylabel('frequence')\n",
    "for p in ax.patches:\n",
    "        ax.annotate('%{:.1f}'.format(p.get_height()/data.shape[0]*100), (p.get_x() + 0.1, p.get_height()))\n",
    "plt.show()"
   ]
  },
  {
   "cell_type": "code",
   "execution_count": 128,
   "metadata": {},
   "outputs": [
    {
     "data": {
      "image/png": "[encoded data removed]",
      "text/plain": [
       "<Figure size 720x288 with 2 Axes>"
      ]
     },
     "metadata": {
      "needs_background": "light"
     },
     "output_type": "display_data"
    },
    {
     "data": {
      "image/png": "[encoded data removed]",
      "text/plain": [
       "<Figure size 720x288 with 2 Axes>"
      ]
     },
     "metadata": {
      "needs_background": "light"
     },
     "output_type": "display_data"
    },
    {
     "data": {
      "image/png": "[encoded data removed]",
      "text/plain": [
       "<Figure size 432x288 with 1 Axes>"
      ]
     },
     "metadata": {
      "needs_background": "light"
     },
     "output_type": "display_data"
    }
   ],
   "source": [
    "# Function to perform univariate analysis of categorical columns\n",
    "data2 = data1.iloc[:,1:]\n",
    "def plot_categorical_columns(dataframe):\n",
    "    categorical_columns = dataframe.select_dtypes(include=['object']).columns\n",
    "    \n",
    "    for i in range(0,len(categorical_columns),2):\n",
    "            if len(categorical_columns) > i+1:\n",
    "                \n",
    "                plt.figure(figsize=(10,4))\n",
    "                plt.subplot(121)\n",
    "                dataframe[categorical_columns[i]].value_counts(normalize=True).plot(kind='bar')\n",
    "                plt.title(categorical_columns[i])\n",
    "                plt.subplot(122)     \n",
    "                dataframe[categorical_columns[i+1]].value_counts(normalize=True).plot(kind='bar')\n",
    "                plt.title(categorical_columns[i+1])\n",
    "                plt.tight_layout()\n",
    "                plt.show()\n",
    "\n",
    "            else:\n",
    "                dataframe[categorical_columns[i]].value_counts(normalize=True).plot(kind='bar')\n",
    "                plt.title(categorical_columns[i])\n",
    "\n",
    "\n",
    "                \n",
    "plot = plot_categorical_columns(data2)"
   ]
  },
  {
   "cell_type": "code",
   "execution_count": 126,
   "metadata": {},
   "outputs": [
    {
     "data": {
      "image/png": "[encoded data removed]",
      "text/plain": [
       "<Figure size 720x288 with 2 Axes>"
      ]
     },
     "metadata": {
      "needs_background": "light"
     },
     "output_type": "display_data"
    },
    {
     "data": {
      "image/png": "[encoded data removed]",
      "text/plain": [
       "<Figure size 720x288 with 2 Axes>"
      ]
     },
     "metadata": {
      "needs_background": "light"
     },
     "output_type": "display_data"
    },
    {
     "data": {
      "image/png": "[encoded data removed]",
      "text/plain": [
       "<Figure size 432x288 with 1 Axes>"
      ]
     },
     "metadata": {
      "needs_background": "light"
     },
     "output_type": "display_data"
    }
   ],
   "source": [
    "# Function to plot histograms\n",
    "def plot_continuous_columns(dataframe):\n",
    "    numeric_columns = dataframe.select_dtypes(include=['number']).columns.tolist()\n",
    "    dataframe = dataframe[numeric_columns]\n",
    "    \n",
    "    for i in range(0,len(numeric_columns),2):\n",
    "        if len(numeric_columns) > i+1:\n",
    "            plt.figure(figsize=(10,4))\n",
    "            plt.subplot(121)\n",
    "            sns.distplot(dataframe[numeric_columns[i]], kde=False)\n",
    "            plt.subplot(122)            \n",
    "            sns.distplot(dataframe[numeric_columns[i+1]], kde=False)\n",
    "            plt.tight_layout()\n",
    "            plt.show()\n",
    "\n",
    "        else:\n",
    "            sns.distplot(dataframe[numeric_columns[i]], kde=False)\n",
    "\n",
    "plot_continuous_columns(data)"
   ]
  },
  {
   "cell_type": "code",
   "execution_count": 134,
   "metadata": {},
   "outputs": [
    {
     "data": {
      "text/html": [
       "<div>\n",
       "<style scoped>\n",
       "    .dataframe tbody tr th:only-of-type {\n",
       "        vertical-align: middle;\n",
       "    }\n",
       "\n",
       "    .dataframe tbody tr th {\n",
       "        vertical-align: top;\n",
       "    }\n",
       "\n",
       "    .dataframe thead th {\n",
       "        text-align: right;\n",
       "    }\n",
       "</style>\n",
       "<table border=\"1\" class=\"dataframe\">\n",
       "  <thead>\n",
       "    <tr style=\"text-align: right;\">\n",
       "      <th></th>\n",
       "      <th>Date_Time</th>\n",
       "      <th>Action1</th>\n",
       "      <th>Action2</th>\n",
       "      <th>Action3</th>\n",
       "      <th>Action4</th>\n",
       "      <th>Cleaning</th>\n",
       "    </tr>\n",
       "  </thead>\n",
       "  <tbody>\n",
       "    <tr>\n",
       "      <th>1</th>\n",
       "      <td>26/04/2019 03:40 PM</td>\n",
       "      <td>FanOff</td>\n",
       "      <td>ExhFanOFF</td>\n",
       "      <td>LightOFF</td>\n",
       "      <td>PumpOff</td>\n",
       "      <td>ProcessOFF</td>\n",
       "    </tr>\n",
       "    <tr>\n",
       "      <th>2</th>\n",
       "      <td>26/04/2019 03:39 PM</td>\n",
       "      <td>FanOff</td>\n",
       "      <td>ExhFanOFF</td>\n",
       "      <td>LightOFF</td>\n",
       "      <td>PumpOff</td>\n",
       "      <td>ProcessOFF</td>\n",
       "    </tr>\n",
       "    <tr>\n",
       "      <th>3</th>\n",
       "      <td>26/04/2019 03:39 PM</td>\n",
       "      <td>FanOff</td>\n",
       "      <td>ExhFanOFF</td>\n",
       "      <td>LightOFF</td>\n",
       "      <td>PumpOff</td>\n",
       "      <td>ProcessOFF</td>\n",
       "    </tr>\n",
       "    <tr>\n",
       "      <th>4</th>\n",
       "      <td>26/04/2019 03:38 PM</td>\n",
       "      <td>FanOff</td>\n",
       "      <td>ExhFanOFF</td>\n",
       "      <td>LightOFF</td>\n",
       "      <td>PumpOff</td>\n",
       "      <td>ProcessOFF</td>\n",
       "    </tr>\n",
       "    <tr>\n",
       "      <th>5</th>\n",
       "      <td>26/04/2019 03:38 PM</td>\n",
       "      <td>FanOff</td>\n",
       "      <td>ExhFanOFF</td>\n",
       "      <td>LightOFF</td>\n",
       "      <td>PumpOff</td>\n",
       "      <td>ProcessOFF</td>\n",
       "    </tr>\n",
       "  </tbody>\n",
       "</table>\n",
       "</div>"
      ],
      "text/plain": [
       "             Date_Time Action1    Action2   Action3  Action4    Cleaning\n",
       "1  26/04/2019 03:40 PM  FanOff  ExhFanOFF  LightOFF  PumpOff  ProcessOFF\n",
       "2  26/04/2019 03:39 PM  FanOff  ExhFanOFF  LightOFF  PumpOff  ProcessOFF\n",
       "3  26/04/2019 03:39 PM  FanOff  ExhFanOFF  LightOFF  PumpOff  ProcessOFF\n",
       "4  26/04/2019 03:38 PM  FanOff  ExhFanOFF  LightOFF  PumpOff  ProcessOFF\n",
       "5  26/04/2019 03:38 PM  FanOff  ExhFanOFF  LightOFF  PumpOff  ProcessOFF"
      ]
     },
     "execution_count": 134,
     "metadata": {},
     "output_type": "execute_result"
    }
   ],
   "source": [
    "data1.head()   # categorical Dataframe"
   ]
  },
  {
   "cell_type": "code",
   "execution_count": 130,
   "metadata": {},
   "outputs": [
    {
     "data": {
      "text/plain": [
       "1"
      ]
     },
     "execution_count": 130,
     "metadata": {},
     "output_type": "execute_result"
    }
   ],
   "source": [
    "data1['Action1'].nunique()   # Unique value in Action1 column"
   ]
  },
  {
   "cell_type": "code",
   "execution_count": 133,
   "metadata": {},
   "outputs": [
    {
     "data": {
      "text/plain": [
       "FanOff    629\n",
       "Name: Action1, dtype: int64"
      ]
     },
     "execution_count": 133,
     "metadata": {},
     "output_type": "execute_result"
    }
   ],
   "source": [
    "data1['Action1'].value_counts()   # value counts for Action1"
   ]
  },
  {
   "cell_type": "code",
   "execution_count": 132,
   "metadata": {},
   "outputs": [
    {
     "data": {
      "text/plain": [
       "ExhFanOFF    629\n",
       "Name: Action2, dtype: int64"
      ]
     },
     "execution_count": 132,
     "metadata": {},
     "output_type": "execute_result"
    }
   ],
   "source": [
    "data1['Action2'].value_counts()   # value counts for Action2"
   ]
  },
  {
   "cell_type": "code",
   "execution_count": 136,
   "metadata": {},
   "outputs": [
    {
     "data": {
      "text/plain": [
       "LightOFF    534\n",
       "LightOn      95\n",
       "Name: Action3, dtype: int64"
      ]
     },
     "execution_count": 136,
     "metadata": {},
     "output_type": "execute_result"
    }
   ],
   "source": [
    "data1['Action3'].value_counts()    # value counts for Action3"
   ]
  },
  {
   "cell_type": "code",
   "execution_count": 137,
   "metadata": {},
   "outputs": [
    {
     "data": {
      "text/plain": [
       "PumpOff    605\n",
       "PumpOn      24\n",
       "Name: Action4, dtype: int64"
      ]
     },
     "execution_count": 137,
     "metadata": {},
     "output_type": "execute_result"
    }
   ],
   "source": [
    "data1['Action4'].value_counts()     # value counts for Action4"
   ]
  },
  {
   "cell_type": "code",
   "execution_count": 138,
   "metadata": {
    "scrolled": true
   },
   "outputs": [
    {
     "data": {
      "text/plain": [
       "ProcessOFF    623\n",
       "ProcessON       6\n",
       "Name: Cleaning, dtype: int64"
      ]
     },
     "execution_count": 138,
     "metadata": {},
     "output_type": "execute_result"
    }
   ],
   "source": [
    "data1['Cleaning'].value_counts()      # value counts for Cleaning"
   ]
  },
  {
   "cell_type": "code",
   "execution_count": 140,
   "metadata": {},
   "outputs": [
    {
     "data": {
      "text/html": [
       "<div>\n",
       "<style scoped>\n",
       "    .dataframe tbody tr th:only-of-type {\n",
       "        vertical-align: middle;\n",
       "    }\n",
       "\n",
       "    .dataframe tbody tr th {\n",
       "        vertical-align: top;\n",
       "    }\n",
       "\n",
       "    .dataframe thead th {\n",
       "        text-align: right;\n",
       "    }\n",
       "</style>\n",
       "<table border=\"1\" class=\"dataframe\">\n",
       "  <thead>\n",
       "    <tr style=\"text-align: right;\">\n",
       "      <th></th>\n",
       "      <th>Date_Time</th>\n",
       "      <th>Action1</th>\n",
       "      <th>Action2</th>\n",
       "      <th>Action3</th>\n",
       "      <th>Action4</th>\n",
       "      <th>Cleaning</th>\n",
       "    </tr>\n",
       "  </thead>\n",
       "  <tbody>\n",
       "    <tr>\n",
       "      <th>479</th>\n",
       "      <td>02/04/2019 07:03 AM</td>\n",
       "      <td>FanOff</td>\n",
       "      <td>ExhFanOFF</td>\n",
       "      <td>LightOFF</td>\n",
       "      <td>PumpOff</td>\n",
       "      <td>ProcessON</td>\n",
       "    </tr>\n",
       "    <tr>\n",
       "      <th>521</th>\n",
       "      <td>02/04/2019 06:17 AM</td>\n",
       "      <td>FanOff</td>\n",
       "      <td>ExhFanOFF</td>\n",
       "      <td>LightOFF</td>\n",
       "      <td>PumpOff</td>\n",
       "      <td>ProcessON</td>\n",
       "    </tr>\n",
       "    <tr>\n",
       "      <th>522</th>\n",
       "      <td>02/04/2019 06:11 AM</td>\n",
       "      <td>FanOff</td>\n",
       "      <td>ExhFanOFF</td>\n",
       "      <td>LightOFF</td>\n",
       "      <td>PumpOff</td>\n",
       "      <td>ProcessON</td>\n",
       "    </tr>\n",
       "    <tr>\n",
       "      <th>523</th>\n",
       "      <td>02/04/2019 06:09 AM</td>\n",
       "      <td>FanOff</td>\n",
       "      <td>ExhFanOFF</td>\n",
       "      <td>LightOFF</td>\n",
       "      <td>PumpOff</td>\n",
       "      <td>ProcessON</td>\n",
       "    </tr>\n",
       "    <tr>\n",
       "      <th>524</th>\n",
       "      <td>02/04/2019 06:06 AM</td>\n",
       "      <td>FanOff</td>\n",
       "      <td>ExhFanOFF</td>\n",
       "      <td>LightOFF</td>\n",
       "      <td>PumpOff</td>\n",
       "      <td>ProcessON</td>\n",
       "    </tr>\n",
       "    <tr>\n",
       "      <th>525</th>\n",
       "      <td>02/04/2019 06:04 AM</td>\n",
       "      <td>FanOff</td>\n",
       "      <td>ExhFanOFF</td>\n",
       "      <td>LightOFF</td>\n",
       "      <td>PumpOff</td>\n",
       "      <td>ProcessON</td>\n",
       "    </tr>\n",
       "  </tbody>\n",
       "</table>\n",
       "</div>"
      ],
      "text/plain": [
       "               Date_Time Action1    Action2   Action3  Action4   Cleaning\n",
       "479  02/04/2019 07:03 AM  FanOff  ExhFanOFF  LightOFF  PumpOff  ProcessON\n",
       "521  02/04/2019 06:17 AM  FanOff  ExhFanOFF  LightOFF  PumpOff  ProcessON\n",
       "522  02/04/2019 06:11 AM  FanOff  ExhFanOFF  LightOFF  PumpOff  ProcessON\n",
       "523  02/04/2019 06:09 AM  FanOff  ExhFanOFF  LightOFF  PumpOff  ProcessON\n",
       "524  02/04/2019 06:06 AM  FanOff  ExhFanOFF  LightOFF  PumpOff  ProcessON\n",
       "525  02/04/2019 06:04 AM  FanOff  ExhFanOFF  LightOFF  PumpOff  ProcessON"
      ]
     },
     "execution_count": 140,
     "metadata": {},
     "output_type": "execute_result"
    }
   ],
   "source": [
    "data1[data1['Cleaning']=='ProcessON']    # find data for Cleaning processON"
   ]
  },
  {
   "cell_type": "code",
   "execution_count": 141,
   "metadata": {},
   "outputs": [
    {
     "data": {
      "text/html": [
       "<div>\n",
       "<style scoped>\n",
       "    .dataframe tbody tr th:only-of-type {\n",
       "        vertical-align: middle;\n",
       "    }\n",
       "\n",
       "    .dataframe tbody tr th {\n",
       "        vertical-align: top;\n",
       "    }\n",
       "\n",
       "    .dataframe thead th {\n",
       "        text-align: right;\n",
       "    }\n",
       "</style>\n",
       "<table border=\"1\" class=\"dataframe\">\n",
       "  <thead>\n",
       "    <tr style=\"text-align: right;\">\n",
       "      <th></th>\n",
       "      <th>Date_Time</th>\n",
       "      <th>Temperature</th>\n",
       "      <th>Humidity</th>\n",
       "      <th>Ammonia_Gas_Level</th>\n",
       "      <th>Light</th>\n",
       "      <th>Water_Level</th>\n",
       "    </tr>\n",
       "  </thead>\n",
       "  <tbody>\n",
       "    <tr>\n",
       "      <th>1</th>\n",
       "      <td>26/04/2019 03:40 PM</td>\n",
       "      <td>31</td>\n",
       "      <td>49</td>\n",
       "      <td>188</td>\n",
       "      <td>114</td>\n",
       "      <td>75</td>\n",
       "    </tr>\n",
       "    <tr>\n",
       "      <th>2</th>\n",
       "      <td>26/04/2019 03:39 PM</td>\n",
       "      <td>31</td>\n",
       "      <td>50</td>\n",
       "      <td>182</td>\n",
       "      <td>158</td>\n",
       "      <td>75</td>\n",
       "    </tr>\n",
       "    <tr>\n",
       "      <th>3</th>\n",
       "      <td>26/04/2019 03:39 PM</td>\n",
       "      <td>31</td>\n",
       "      <td>50</td>\n",
       "      <td>183</td>\n",
       "      <td>137</td>\n",
       "      <td>75</td>\n",
       "    </tr>\n",
       "    <tr>\n",
       "      <th>4</th>\n",
       "      <td>26/04/2019 03:38 PM</td>\n",
       "      <td>31</td>\n",
       "      <td>50</td>\n",
       "      <td>189</td>\n",
       "      <td>165</td>\n",
       "      <td>75</td>\n",
       "    </tr>\n",
       "    <tr>\n",
       "      <th>5</th>\n",
       "      <td>26/04/2019 03:38 PM</td>\n",
       "      <td>31</td>\n",
       "      <td>50</td>\n",
       "      <td>190</td>\n",
       "      <td>117</td>\n",
       "      <td>45</td>\n",
       "    </tr>\n",
       "  </tbody>\n",
       "</table>\n",
       "</div>"
      ],
      "text/plain": [
       "             Date_Time  Temperature  Humidity  Ammonia_Gas_Level  Light  \\\n",
       "1  26/04/2019 03:40 PM           31        49                188    114   \n",
       "2  26/04/2019 03:39 PM           31        50                182    158   \n",
       "3  26/04/2019 03:39 PM           31        50                183    137   \n",
       "4  26/04/2019 03:38 PM           31        50                189    165   \n",
       "5  26/04/2019 03:38 PM           31        50                190    117   \n",
       "\n",
       "   Water_Level  \n",
       "1           75  \n",
       "2           75  \n",
       "3           75  \n",
       "4           75  \n",
       "5           45  "
      ]
     },
     "execution_count": 141,
     "metadata": {},
     "output_type": "execute_result"
    }
   ],
   "source": [
    "data.head()    # Dataframe for Numerical values"
   ]
  },
  {
   "cell_type": "code",
   "execution_count": 149,
   "metadata": {},
   "outputs": [
    {
     "name": "stdout",
     "output_type": "stream",
     "text": [
      "For Temperature Column: \n",
      "Max Value 34\n",
      "Min Value 30\n"
     ]
    }
   ],
   "source": [
    "# Max and Min sensors value for Temperature column\n",
    "print('For Temperature Column: ')\n",
    "print('Max Value',data['Temperature'].max())\n",
    "print('Min Value',data['Temperature'].min())"
   ]
  },
  {
   "cell_type": "code",
   "execution_count": 150,
   "metadata": {},
   "outputs": [
    {
     "name": "stdout",
     "output_type": "stream",
     "text": [
      "For Humidity Column: \n",
      "Max Value 69\n",
      "Min Value 42\n"
     ]
    }
   ],
   "source": [
    "# Max and Min sensors value for Humidity column\n",
    "print('For Humidity Column: ')\n",
    "print('Max Value',data['Humidity'].max())\n",
    "print('Min Value',data['Humidity'].min())"
   ]
  },
  {
   "cell_type": "code",
   "execution_count": 151,
   "metadata": {},
   "outputs": [
    {
     "name": "stdout",
     "output_type": "stream",
     "text": [
      "For Ammonia_Gas_Level Column: \n",
      "Max Value 228\n",
      "Min Value 0\n"
     ]
    }
   ],
   "source": [
    "# Max and Min sensors value for Ammonia_Gas_Level column\n",
    "print('For Ammonia_Gas_Level Column: ')\n",
    "print('Max Value',data['Ammonia_Gas_Level'].max())\n",
    "print('Min Value',data['Ammonia_Gas_Level'].min())"
   ]
  },
  {
   "cell_type": "code",
   "execution_count": 152,
   "metadata": {},
   "outputs": [
    {
     "name": "stdout",
     "output_type": "stream",
     "text": [
      "For Light Column: \n",
      "Max Value 582\n",
      "Min Value 35\n"
     ]
    }
   ],
   "source": [
    "# Max and Min sensors value for Light column\n",
    "print('For Light Column: ')\n",
    "print('Max Value',data['Light'].max())\n",
    "print('Min Value',data['Light'].min())"
   ]
  },
  {
   "cell_type": "code",
   "execution_count": 154,
   "metadata": {},
   "outputs": [
    {
     "data": {
      "text/plain": [
       "array([ 75,  45,  40,  60, 100], dtype=int64)"
      ]
     },
     "execution_count": 154,
     "metadata": {},
     "output_type": "execute_result"
    }
   ],
   "source": [
    "# Threshold for water level given for water tank\n",
    "data['Water_Level'].unique()"
   ]
  },
  {
   "cell_type": "code",
   "execution_count": null,
   "metadata": {},
   "outputs": [],
   "source": []
  },
  {
   "cell_type": "markdown",
   "metadata": {},
   "source": [
    "### These is practice on test data, all the records collected automatically and sensored data recorded\n",
    "### Real database is not access now So I have done Practice on test database\n",
    "### Also I planned many more outputs from that real data but that is not possible now.\n",
    "## for example... \n",
    "### 1>. water pumps get ON for some time calcutate energy required for these operation multiple of number of times operation done then get total energy consume for certain operation same for light and cleaning precess in that electric moter and light bulb are used and electricity as energy.\n",
    "### 2>. Temperature and Humidity maintained by doing that automatic processes then what is the production growth for poultry farm, calculate difference in between before automation and after automation.\n",
    "\n"
   ]
  },
  {
   "cell_type": "code",
   "execution_count": null,
   "metadata": {},
   "outputs": [],
   "source": []
  }
 ],
 "metadata": {
  "kernelspec": {
   "display_name": "Python 3",
   "language": "python",
   "name": "python3"
  },
  "language_info": {
   "codemirror_mode": {
    "name": "ipython",
    "version": 3
   },
   "file_extension": ".py",
   "mimetype": "text/x-python",
   "name": "python",
   "nbconvert_exporter": "python",
   "pygments_lexer": "ipython3",
   "version": "3.7.3"
  }
 },
 "nbformat": 4,
 "nbformat_minor": 2
}
