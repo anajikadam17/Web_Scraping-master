{
 "cells": [
  {
   "cell_type": "code",
   "execution_count": 1,
   "metadata": {},
   "outputs": [],
   "source": [
    "import pandas as pd\n",
    "import numpy as np\n",
    "import matplotlib.pyplot as plt\n",
    "\n",
    "%matplotlib inline\n",
    "\n",
    "from urllib.request import urlopen\n",
    "from bs4 import BeautifulSoup\n",
    "import re #regural exp\n",
    "url = 'https://www.amazon.in/s?k=iphone+11+pro+mobile&crid=25RLYKCTPLMYK&sprefix=iphone+1%2Caps%2C305&ref=nb_sb_ss_i_1_8'"
   ]
  },
  {
   "cell_type": "code",
   "execution_count": 3,
   "metadata": {},
   "outputs": [],
   "source": [
    "html = urlopen(url)"
   ]
  },
  {
   "cell_type": "code",
   "execution_count": 4,
   "metadata": {},
   "outputs": [],
   "source": [
    "soup = BeautifulSoup(html)"
   ]
  },
  {
   "cell_type": "code",
   "execution_count": 24,
   "metadata": {},
   "outputs": [],
   "source": [
    "containers = soup.find_all('div', {'class':'sg-col-4-of-12 sg-col-8-of-16 sg-col-16-of-24 sg-col-12-of-20 sg-col-24-of-32 sg-col sg-col-28-of-36 sg-col-20-of-28'})\n"
   ]
  },
  {
   "cell_type": "code",
   "execution_count": 25,
   "metadata": {},
   "outputs": [
    {
     "data": {
      "text/plain": [
       "16"
      ]
     },
     "execution_count": 25,
     "metadata": {},
     "output_type": "execute_result"
    }
   ],
   "source": [
    "containerslen= len(containers)\n",
    "containerslen"
   ]
  },
  {
   "cell_type": "code",
   "execution_count": 22,
   "metadata": {},
   "outputs": [
    {
     "data": {
      "text/plain": [
       "16"
      ]
     },
     "execution_count": 22,
     "metadata": {},
     "output_type": "execute_result"
    }
   ],
   "source": [
    "data = []\n",
    "for row in containers:\n",
    "    rowdt = row.find_all('span')\n",
    "    dataRow =[]\n",
    "    for cell in rowdt:\n",
    "        dataRow.append(cell.text)\n",
    "    data.append(dataRow)\n",
    "    \n",
    "len(data)"
   ]
  },
  {
   "cell_type": "code",
   "execution_count": 26,
   "metadata": {},
   "outputs": [
    {
     "data": {
      "text/plain": [
       "[[], [], [], [], [], [], [], [], [], [], [], [], [], [], [], []]"
      ]
     },
     "execution_count": 26,
     "metadata": {},
     "output_type": "execute_result"
    }
   ],
   "source": [
    "data = []\n",
    "for row in containers:\n",
    "    rowdt = row.find_all('alt')\n",
    "    dataRow =[]\n",
    "    for cell in rowdt:\n",
    "        dataRow.append(cell.text)\n",
    "    data.append(dataRow)\n",
    "data"
   ]
  },
  {
   "cell_type": "code",
   "execution_count": 31,
   "metadata": {},
   "outputs": [
    {
     "ename": "SyntaxError",
     "evalue": "invalid syntax (<ipython-input-31-f399945d9806>, line 10)",
     "output_type": "error",
     "traceback": [
      "\u001b[1;36m  File \u001b[1;32m\"<ipython-input-31-f399945d9806>\"\u001b[1;36m, line \u001b[1;32m10\u001b[0m\n\u001b[1;33m    data/\u001b[0m\n\u001b[1;37m         ^\u001b[0m\n\u001b[1;31mSyntaxError\u001b[0m\u001b[1;31m:\u001b[0m invalid syntax\n"
     ]
    }
   ],
   "source": [
    "img = soup.find_all('span', {'class':'rush-component'})\n",
    "# img\n",
    "data = []\n",
    "for row in img:\n",
    "    rowdt = row.find_all('a')\n",
    "    dataRow =[]\n",
    "    for cell in rowdt:\n",
    "        dataRow.append(cell.text)\n",
    "    data.append(dataRow)\n",
    "data/"
   ]
  },
  {
   "cell_type": "markdown",
   "metadata": {},
   "source": [
    "### BE Final year project Live data Web Scripting"
   ]
  },
  {
   "cell_type": "code",
   "execution_count": null,
   "metadata": {},
   "outputs": [],
   "source": []
  },
  {
   "cell_type": "code",
   "execution_count": 4,
   "metadata": {},
   "outputs": [],
   "source": [
    "import pandas as pd\n",
    "import numpy as np\n",
    "import matplotlib.pyplot as plt\n",
    "\n",
    "%matplotlib inline\n",
    "\n",
    "from urllib.request import urlopen\n",
    "from bs4 import BeautifulSoup\n",
    "import re #regural exp\n",
    "url = 'http://www.anajiproject.tk/project3/data1.php'\n",
    "\n",
    "html = urlopen(url)\n",
    "soup = BeautifulSoup(html)\n",
    "\n"
   ]
  },
  {
   "cell_type": "code",
   "execution_count": null,
   "metadata": {},
   "outputs": [],
   "source": []
  },
  {
   "cell_type": "code",
   "execution_count": 38,
   "metadata": {},
   "outputs": [
    {
     "ename": "SyntaxError",
     "evalue": "invalid syntax (<ipython-input-38-b59c14e2e4d1>, line 2)",
     "output_type": "error",
     "traceback": [
      "\u001b[1;36m  File \u001b[1;32m\"<ipython-input-38-b59c14e2e4d1>\"\u001b[1;36m, line \u001b[1;32m2\u001b[0m\n\u001b[1;33m    containers/\u001b[0m\n\u001b[1;37m               ^\u001b[0m\n\u001b[1;31mSyntaxError\u001b[0m\u001b[1;31m:\u001b[0m invalid syntax\n"
     ]
    }
   ],
   "source": [
    "containers = soup.find_all('tr')\n",
    "containers/"
   ]
  },
  {
   "cell_type": "code",
   "execution_count": 5,
   "metadata": {},
   "outputs": [
    {
     "data": {
      "text/plain": [
       "630"
      ]
     },
     "execution_count": 5,
     "metadata": {},
     "output_type": "execute_result"
    }
   ],
   "source": [
    "data = []\n",
    "\n",
    "allrows = soup.find_all('tr')\n",
    "\n",
    "for row in allrows:\n",
    "    row_list = row.find_all('td')\n",
    "    dataRow =[]\n",
    "    for cell in row_list:\n",
    "        dataRow.append(cell.text)\n",
    "    data.append(dataRow)\n",
    "len(data)\n",
    "# print(data)"
   ]
  },
  {
   "cell_type": "code",
   "execution_count": 6,
   "metadata": {},
   "outputs": [
    {
     "name": "stdout",
     "output_type": "stream",
     "text": [
      "11\n",
      "['Date & Time', 'Temperature', 'Action', 'Humidity', 'Ammonia Gas Level', 'Action', 'Light', 'Action', 'Water Level', 'Action', 'Cleaning']\n"
     ]
    }
   ],
   "source": [
    "header_list = []\n",
    "header = soup.find_all('th')\n",
    "for col in header:\n",
    "    header_list.append(col.text)\n",
    "print(len(header_list))\n",
    "print(header_list)"
   ]
  },
  {
   "cell_type": "code",
   "execution_count": 7,
   "metadata": {},
   "outputs": [
    {
     "name": "stdout",
     "output_type": "stream",
     "text": [
      "                    0     1       2     3     4          5     6         7   \\\n",
      "0                 None  None    None  None  None       None  None      None   \n",
      "1  26/04/2019 03:40 PM    31  FanOff    49   188  ExhFanOFF   114  LightOFF   \n",
      "2  26/04/2019 03:39 PM    31  FanOff    50   182  ExhFanOFF   158  LightOFF   \n",
      "3  26/04/2019 03:39 PM    31  FanOff    50   183  ExhFanOFF   137  LightOFF   \n",
      "4  26/04/2019 03:38 PM    31  FanOff    50   189  ExhFanOFF   165  LightOFF   \n",
      "\n",
      "     8        9           10  \n",
      "0  None     None        None  \n",
      "1    75  PumpOff  ProcessOFF  \n",
      "2    75  PumpOff  ProcessOFF  \n",
      "3    75  PumpOff  ProcessOFF  \n",
      "4    75  PumpOff  ProcessOFF  \n",
      "(630, 11)\n"
     ]
    }
   ],
   "source": [
    "df1 = pd.DataFrame(data)\n",
    "print(df1.head())\n",
    "print(df1.shape)"
   ]
  },
  {
   "cell_type": "code",
   "execution_count": 8,
   "metadata": {},
   "outputs": [
    {
     "data": {
      "text/html": [
       "<div>\n",
       "<style scoped>\n",
       "    .dataframe tbody tr th:only-of-type {\n",
       "        vertical-align: middle;\n",
       "    }\n",
       "\n",
       "    .dataframe tbody tr th {\n",
       "        vertical-align: top;\n",
       "    }\n",
       "\n",
       "    .dataframe thead th {\n",
       "        text-align: right;\n",
       "    }\n",
       "</style>\n",
       "<table border=\"1\" class=\"dataframe\">\n",
       "  <thead>\n",
       "    <tr style=\"text-align: right;\">\n",
       "      <th></th>\n",
       "      <th>Date &amp; Time</th>\n",
       "      <th>Temperature</th>\n",
       "      <th>Action</th>\n",
       "      <th>Humidity</th>\n",
       "      <th>Ammonia Gas Level</th>\n",
       "      <th>Action</th>\n",
       "      <th>Light</th>\n",
       "      <th>Action</th>\n",
       "      <th>Water Level</th>\n",
       "      <th>Action</th>\n",
       "      <th>Cleaning</th>\n",
       "    </tr>\n",
       "  </thead>\n",
       "  <tbody>\n",
       "    <tr>\n",
       "      <th>1</th>\n",
       "      <td>26/04/2019 03:40 PM</td>\n",
       "      <td>31</td>\n",
       "      <td>FanOff</td>\n",
       "      <td>49</td>\n",
       "      <td>188</td>\n",
       "      <td>ExhFanOFF</td>\n",
       "      <td>114</td>\n",
       "      <td>LightOFF</td>\n",
       "      <td>75</td>\n",
       "      <td>PumpOff</td>\n",
       "      <td>ProcessOFF</td>\n",
       "    </tr>\n",
       "    <tr>\n",
       "      <th>2</th>\n",
       "      <td>26/04/2019 03:39 PM</td>\n",
       "      <td>31</td>\n",
       "      <td>FanOff</td>\n",
       "      <td>50</td>\n",
       "      <td>182</td>\n",
       "      <td>ExhFanOFF</td>\n",
       "      <td>158</td>\n",
       "      <td>LightOFF</td>\n",
       "      <td>75</td>\n",
       "      <td>PumpOff</td>\n",
       "      <td>ProcessOFF</td>\n",
       "    </tr>\n",
       "    <tr>\n",
       "      <th>3</th>\n",
       "      <td>26/04/2019 03:39 PM</td>\n",
       "      <td>31</td>\n",
       "      <td>FanOff</td>\n",
       "      <td>50</td>\n",
       "      <td>183</td>\n",
       "      <td>ExhFanOFF</td>\n",
       "      <td>137</td>\n",
       "      <td>LightOFF</td>\n",
       "      <td>75</td>\n",
       "      <td>PumpOff</td>\n",
       "      <td>ProcessOFF</td>\n",
       "    </tr>\n",
       "    <tr>\n",
       "      <th>4</th>\n",
       "      <td>26/04/2019 03:38 PM</td>\n",
       "      <td>31</td>\n",
       "      <td>FanOff</td>\n",
       "      <td>50</td>\n",
       "      <td>189</td>\n",
       "      <td>ExhFanOFF</td>\n",
       "      <td>165</td>\n",
       "      <td>LightOFF</td>\n",
       "      <td>75</td>\n",
       "      <td>PumpOff</td>\n",
       "      <td>ProcessOFF</td>\n",
       "    </tr>\n",
       "    <tr>\n",
       "      <th>5</th>\n",
       "      <td>26/04/2019 03:38 PM</td>\n",
       "      <td>31</td>\n",
       "      <td>FanOff</td>\n",
       "      <td>50</td>\n",
       "      <td>190</td>\n",
       "      <td>ExhFanOFF</td>\n",
       "      <td>117</td>\n",
       "      <td>LightOFF</td>\n",
       "      <td>45</td>\n",
       "      <td>PumpOff</td>\n",
       "      <td>ProcessOFF</td>\n",
       "    </tr>\n",
       "  </tbody>\n",
       "</table>\n",
       "</div>"
      ],
      "text/plain": [
       "           Date & Time Temperature  Action Humidity Ammonia Gas Level  \\\n",
       "1  26/04/2019 03:40 PM          31  FanOff       49               188   \n",
       "2  26/04/2019 03:39 PM          31  FanOff       50               182   \n",
       "3  26/04/2019 03:39 PM          31  FanOff       50               183   \n",
       "4  26/04/2019 03:38 PM          31  FanOff       50               189   \n",
       "5  26/04/2019 03:38 PM          31  FanOff       50               190   \n",
       "\n",
       "      Action Light    Action Water Level   Action    Cleaning  \n",
       "1  ExhFanOFF   114  LightOFF          75  PumpOff  ProcessOFF  \n",
       "2  ExhFanOFF   158  LightOFF          75  PumpOff  ProcessOFF  \n",
       "3  ExhFanOFF   137  LightOFF          75  PumpOff  ProcessOFF  \n",
       "4  ExhFanOFF   165  LightOFF          75  PumpOff  ProcessOFF  \n",
       "5  ExhFanOFF   117  LightOFF          45  PumpOff  ProcessOFF  "
      ]
     },
     "execution_count": 8,
     "metadata": {},
     "output_type": "execute_result"
    }
   ],
   "source": [
    "header_list = []\n",
    "col_header = soup.find_all('th')\n",
    "for col in col_header:\n",
    "    header_list.append(col.text)\n",
    "#print(header_list)\n",
    "df1.columns = header_list\n",
    "df = df1[1:]\n",
    "df.head()"
   ]
  },
  {
   "cell_type": "code",
   "execution_count": 9,
   "metadata": {},
   "outputs": [
    {
     "name": "stdout",
     "output_type": "stream",
     "text": [
      "<class 'pandas.core.frame.DataFrame'>\n",
      "RangeIndex: 629 entries, 1 to 629\n",
      "Data columns (total 11 columns):\n",
      "Date & Time          629 non-null object\n",
      "Temperature          629 non-null object\n",
      "Action               629 non-null object\n",
      "Humidity             629 non-null object\n",
      "Ammonia Gas Level    629 non-null object\n",
      "Action               629 non-null object\n",
      "Light                629 non-null object\n",
      "Action               629 non-null object\n",
      "Water Level          629 non-null object\n",
      "Action               629 non-null object\n",
      "Cleaning             629 non-null object\n",
      "dtypes: object(11)\n",
      "memory usage: 54.1+ KB\n"
     ]
    }
   ],
   "source": [
    "df.info()"
   ]
  },
  {
   "cell_type": "code",
   "execution_count": 12,
   "metadata": {},
   "outputs": [
    {
     "data": {
      "text/plain": [
       "pandas.core.frame.DataFrame"
      ]
     },
     "execution_count": 12,
     "metadata": {},
     "output_type": "execute_result"
    }
   ],
   "source": [
    "data = df[['Date & Time','Temperature','Humidity','Ammonia Gas Level','Light','Water Level']]\n",
    "data.head()\n",
    "type(data)"
   ]
  },
  {
   "cell_type": "code",
   "execution_count": 12,
   "metadata": {},
   "outputs": [],
   "source": [
    "df.to_csv('data1.csv')"
   ]
  },
  {
   "cell_type": "code",
   "execution_count": null,
   "metadata": {},
   "outputs": [],
   "source": []
  }
 ],
 "metadata": {
  "kernelspec": {
   "display_name": "Python 3",
   "language": "python",
   "name": "python3"
  },
  "language_info": {
   "codemirror_mode": {
    "name": "ipython",
    "version": 3
   },
   "file_extension": ".py",
   "mimetype": "text/x-python",
   "name": "python",
   "nbconvert_exporter": "python",
   "pygments_lexer": "ipython3",
   "version": "3.7.3"
  }
 },
 "nbformat": 4,
 "nbformat_minor": 2
}
